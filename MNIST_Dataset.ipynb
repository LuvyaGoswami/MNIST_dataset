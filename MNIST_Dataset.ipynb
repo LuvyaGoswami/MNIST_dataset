{
  "nbformat": 4,
  "nbformat_minor": 0,
  "metadata": {
    "colab": {
      "provenance": []
    },
    "kernelspec": {
      "name": "python3",
      "display_name": "Python 3"
    },
    "language_info": {
      "name": "python"
    }
  },
  "cells": [
    {
      "cell_type": "code",
      "execution_count": 97,
      "metadata": {
        "id": "OQoDAflV0RZ3"
      },
      "outputs": [],
      "source": [
        "import numpy as np"
      ]
    },
    {
      "cell_type": "code",
      "source": [
        "import tensorflow as tf"
      ],
      "metadata": {
        "id": "0ZRqyUye0VP4"
      },
      "execution_count": 98,
      "outputs": []
    },
    {
      "cell_type": "code",
      "source": [
        "import tensorflow_datasets as tfds"
      ],
      "metadata": {
        "id": "cXBx-5MO0bz4"
      },
      "execution_count": 99,
      "outputs": []
    },
    {
      "cell_type": "code",
      "source": [
        "mnist_dataset,mnist_info=tfds.load(name='mnist',with_info=True,as_supervised=True)"
      ],
      "metadata": {
        "id": "-XMRE3_-0gQn"
      },
      "execution_count": 100,
      "outputs": []
    },
    {
      "cell_type": "code",
      "source": [
        "import matplotlib.pyplot as plt"
      ],
      "metadata": {
        "id": "cGaPs3yR0wfK"
      },
      "execution_count": 101,
      "outputs": []
    },
    {
      "cell_type": "code",
      "source": [
        "import pandas as pd"
      ],
      "metadata": {
        "id": "s4IGwxfJ1M_i"
      },
      "execution_count": 102,
      "outputs": []
    },
    {
      "cell_type": "code",
      "source": [
        "mnist_train,mnist_test=mnist_dataset['train'],mnist_dataset['test']\n",
        "num_validation_samples=0.1*mnist_info.splits['train'].num_examples\n",
        "num_validation_samples=tf.cast(num_validation_samples,tf.int64)\n",
        "num_test_samples=mnist_info.splits['test'].num_examples\n",
        "num_test_samples=tf.cast(num_validation_samples,tf.int64)"
      ],
      "metadata": {
        "id": "DACyHXj71N_q"
      },
      "execution_count": 103,
      "outputs": []
    },
    {
      "cell_type": "code",
      "source": [
        "def scale(image,label):\n",
        "  image=tf.cast(image,tf.float32)\n",
        "  image/=255\n",
        "  return image, label\n"
      ],
      "metadata": {
        "id": "NuNQeeFr630Q"
      },
      "execution_count": 104,
      "outputs": []
    },
    {
      "cell_type": "code",
      "source": [
        "scaled_train_and_validation_data=mnist_train.map(scale)\n",
        "test_data=mnist_test.map(scale)\n"
      ],
      "metadata": {
        "id": "GsFmVgu27NeM"
      },
      "execution_count": 105,
      "outputs": []
    },
    {
      "cell_type": "code",
      "source": [
        "buffer_size=10000\n"
      ],
      "metadata": {
        "id": "FCImFxn37ePL"
      },
      "execution_count": 106,
      "outputs": []
    },
    {
      "cell_type": "code",
      "source": [
        "shuffled_train_and_validation_data=scaled_train_and_validation_data.shuffle(buffer_size)"
      ],
      "metadata": {
        "id": "Fmy8cfRV8OWs"
      },
      "execution_count": 107,
      "outputs": []
    },
    {
      "cell_type": "code",
      "source": [
        "validation_data=shuffled_train_and_validation_data.take(num_validation_samples)"
      ],
      "metadata": {
        "id": "2oBPpnRx8WjK"
      },
      "execution_count": 108,
      "outputs": []
    },
    {
      "cell_type": "code",
      "source": [
        "train_data=shuffled_train_and_validation_data.skip(num_validation_samples)"
      ],
      "metadata": {
        "id": "4CFzrKBW8lQ8"
      },
      "execution_count": 109,
      "outputs": []
    },
    {
      "cell_type": "code",
      "source": [
        "#BATCHING\n"
      ],
      "metadata": {
        "id": "Wk7ChH8P82NU"
      },
      "execution_count": 110,
      "outputs": []
    },
    {
      "cell_type": "code",
      "source": [
        "batch_size=150\n",
        "train_data=train_data.batch(batch_size)"
      ],
      "metadata": {
        "id": "KCaxjkJJ8_lc"
      },
      "execution_count": 111,
      "outputs": []
    },
    {
      "cell_type": "code",
      "source": [
        "validation_data=validation_data.batch(num_validation_samples)"
      ],
      "metadata": {
        "id": "8Kmh9Kp_9LHR"
      },
      "execution_count": 112,
      "outputs": []
    },
    {
      "cell_type": "code",
      "source": [
        "test_data=test_data.batch(num_test_samples)"
      ],
      "metadata": {
        "id": "hlS2Pvbc9a2s"
      },
      "execution_count": 113,
      "outputs": []
    },
    {
      "cell_type": "code",
      "source": [
        "validation_inputs,validation_targets=next(iter(validation_data))"
      ],
      "metadata": {
        "id": "oQIQwhn_9iEG"
      },
      "execution_count": 114,
      "outputs": []
    },
    {
      "cell_type": "code",
      "source": [
        "#OUTLINING THE MODEL\n"
      ],
      "metadata": {
        "id": "G2pJ3B72-c8k"
      },
      "execution_count": 115,
      "outputs": []
    },
    {
      "cell_type": "code",
      "source": [
        "input_size=784\n",
        "ouput_size=10\n",
        "hidden_layer_size=500\n",
        "model=tf.keras.Sequential([\n",
        "    tf.keras.layers.Flatten(input_shape=(28,28,1)),\n",
        "    tf.keras.layers.Dense(hidden_layer_size,activation='relu'),\n",
        "    tf.keras.layers.Dense(hidden_layer_size,activation='relu'),\n",
        "    tf.keras.layers.Dense(ouput_size,activation='softmax')\n",
        "\n",
        "                          ])\n",
        "#Flatten transforms the tensor into a vector\n",
        "# First layer its size and activation function\n",
        "# Second layer its size and actication function"
      ],
      "metadata": {
        "id": "b0RCCgT3_3kC"
      },
      "execution_count": 116,
      "outputs": []
    },
    {
      "cell_type": "code",
      "source": [
        "# OPTIMIZATION ALGORITHM\n",
        "# CHOOSE THE OPTIMIZER AND THE LOSS FUNCTION"
      ],
      "metadata": {
        "id": "xk9SaKNZLVOc"
      },
      "execution_count": 117,
      "outputs": []
    },
    {
      "cell_type": "code",
      "source": [
        "model.compile(optimizer='adam', loss='sparse_categorical_crossentropy',metrics=['accuracy'])"
      ],
      "metadata": {
        "id": "Wh1CCFdyLm5O"
      },
      "execution_count": 118,
      "outputs": []
    },
    {
      "cell_type": "code",
      "source": [
        "# TRAINING\n",
        "\"\"\"WHAT HAPPENS INSIDE A&POCH\n",
        "1. At the beginning of each epoch, the training loss will be set to O\n",
        "2. The algorithm will iterate over a preset number of batches, all from train _ data\n",
        "3. The weights and biases will be updated as many times as there are batches\n",
        "4. We will get a value for the loss function, indicating how the training is going\n",
        "5. We will also see a training accuracy\n",
        "6. At the end of the epoch, the algorithm will forward propagate the whole validation set\"\"\""
      ],
      "metadata": {
        "colab": {
          "base_uri": "https://localhost:8080/",
          "height": 87
        },
        "id": "pkFljX1IMINL",
        "outputId": "699b3f53-c852-44d4-d789-f4a67e40b6d6"
      },
      "execution_count": 119,
      "outputs": [
        {
          "output_type": "execute_result",
          "data": {
            "text/plain": [
              "'WHAT HAPPENS INSIDE A&POCH\\n1. At the beginning of each epoch, the training loss will be set to O\\n2. The algorithm will iterate over a preset number of batches, all from train _ data\\n3. The weights and biases will be updated as many times as there are batches\\n4. We will get a value for the loss function, indicating how the training is going\\n5. We will also see a training accuracy\\n6. At the end of the epoch, the algorithm will forward propagate the whole validation set'"
            ],
            "application/vnd.google.colaboratory.intrinsic+json": {
              "type": "string"
            }
          },
          "metadata": {},
          "execution_count": 119
        }
      ]
    },
    {
      "cell_type": "code",
      "source": [
        "num_epochs=5\n",
        "model.fit(train_data,epochs=num_epochs,validation_data=(validation_inputs,validation_targets),verbose=2)\n"
      ],
      "metadata": {
        "colab": {
          "base_uri": "https://localhost:8080/"
        },
        "id": "JmepmWkpMZNO",
        "outputId": "e9d2c24e-2a8f-4f82-8743-603776857d74"
      },
      "execution_count": 120,
      "outputs": [
        {
          "output_type": "stream",
          "name": "stdout",
          "text": [
            "Epoch 1/5\n",
            "360/360 - 13s - loss: 0.2390 - accuracy: 0.9305 - val_loss: 0.1093 - val_accuracy: 0.9677 - 13s/epoch - 35ms/step\n",
            "Epoch 2/5\n",
            "360/360 - 10s - loss: 0.0871 - accuracy: 0.9739 - val_loss: 0.0746 - val_accuracy: 0.9785 - 10s/epoch - 27ms/step\n",
            "Epoch 3/5\n",
            "360/360 - 8s - loss: 0.0578 - accuracy: 0.9819 - val_loss: 0.0513 - val_accuracy: 0.9837 - 8s/epoch - 22ms/step\n",
            "Epoch 4/5\n",
            "360/360 - 9s - loss: 0.0390 - accuracy: 0.9876 - val_loss: 0.0367 - val_accuracy: 0.9880 - 9s/epoch - 26ms/step\n",
            "Epoch 5/5\n",
            "360/360 - 10s - loss: 0.0310 - accuracy: 0.9899 - val_loss: 0.0332 - val_accuracy: 0.9890 - 10s/epoch - 27ms/step\n"
          ]
        },
        {
          "output_type": "execute_result",
          "data": {
            "text/plain": [
              "<keras.src.callbacks.History at 0x7b01226d7ca0>"
            ]
          },
          "metadata": {},
          "execution_count": 120
        }
      ]
    },
    {
      "cell_type": "code",
      "source": [
        "test_loss, test_accuracy = model.evaluate(test_data)"
      ],
      "metadata": {
        "colab": {
          "base_uri": "https://localhost:8080/"
        },
        "id": "O4DyVBWXNOJd",
        "outputId": "2737ce39-5505-4a79-b060-336703f580ed"
      },
      "execution_count": 121,
      "outputs": [
        {
          "output_type": "stream",
          "name": "stdout",
          "text": [
            "2/2 [==============================] - 2s 717ms/step - loss: 0.0768 - accuracy: 0.9785\n"
          ]
        }
      ]
    },
    {
      "cell_type": "code",
      "source": [
        "print('Test loss: {0:.2f}. Test accuracy: {1:.2f}%'.format(test_loss, test_accuracy*100.))"
      ],
      "metadata": {
        "colab": {
          "base_uri": "https://localhost:8080/"
        },
        "id": "fCEXSF7qWQXN",
        "outputId": "e71bc183-dd9d-4087-c641-fe6abfc183b1"
      },
      "execution_count": 122,
      "outputs": [
        {
          "output_type": "stream",
          "name": "stdout",
          "text": [
            "Test loss: 0.08. Test accuracy: 97.85%\n"
          ]
        }
      ]
    },
    {
      "cell_type": "code",
      "source": [],
      "metadata": {
        "id": "fcKQ1fotWTAw"
      },
      "execution_count": null,
      "outputs": []
    }
  ]
}